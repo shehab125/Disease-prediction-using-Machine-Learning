{
 "cells": [
  {
   "cell_type": "code",
   "execution_count": 22,
   "id": "9e88c93a-5427-4367-86df-1fc92420fced",
   "metadata": {},
   "outputs": [],
   "source": [
    "from tkinter import *\n",
    "from tkinter import ttk\n",
    "import numpy as np\n",
    "import pandas as pd\n",
    "from sklearn import tree\n",
    "from sklearn.ensemble import RandomForestClassifier\n",
    "from sklearn.naive_bayes import GaussianNB\n",
    "from sklearn.metrics import accuracy_score"
   ]
  },
  {
   "cell_type": "code",
   "execution_count": 42,
   "id": "426005de-4a06-4d83-9793-45c68d32068f",
   "metadata": {
    "scrolled": true
   },
   "outputs": [
    {
     "data": {
      "text/html": [
       "<div>\n",
       "<style scoped>\n",
       "    .dataframe tbody tr th:only-of-type {\n",
       "        vertical-align: middle;\n",
       "    }\n",
       "\n",
       "    .dataframe tbody tr th {\n",
       "        vertical-align: top;\n",
       "    }\n",
       "\n",
       "    .dataframe thead th {\n",
       "        text-align: right;\n",
       "    }\n",
       "</style>\n",
       "<table border=\"1\" class=\"dataframe\">\n",
       "  <thead>\n",
       "    <tr style=\"text-align: right;\">\n",
       "      <th></th>\n",
       "      <th>itching</th>\n",
       "      <th>skin_rash</th>\n",
       "      <th>nodal_skin_eruptions</th>\n",
       "      <th>continuous_sneezing</th>\n",
       "      <th>shivering</th>\n",
       "      <th>chills</th>\n",
       "      <th>joint_pain</th>\n",
       "      <th>stomach_pain</th>\n",
       "      <th>acidity</th>\n",
       "      <th>ulcers_on_tongue</th>\n",
       "      <th>...</th>\n",
       "      <th>blackheads</th>\n",
       "      <th>scurring</th>\n",
       "      <th>skin_peeling</th>\n",
       "      <th>silver_like_dusting</th>\n",
       "      <th>small_dents_in_nails</th>\n",
       "      <th>inflammatory_nails</th>\n",
       "      <th>blister</th>\n",
       "      <th>red_sore_around_nose</th>\n",
       "      <th>yellow_crust_ooze</th>\n",
       "      <th>prognosis</th>\n",
       "    </tr>\n",
       "  </thead>\n",
       "  <tbody>\n",
       "    <tr>\n",
       "      <th>0</th>\n",
       "      <td>1</td>\n",
       "      <td>1</td>\n",
       "      <td>1</td>\n",
       "      <td>0</td>\n",
       "      <td>0</td>\n",
       "      <td>0</td>\n",
       "      <td>0</td>\n",
       "      <td>0</td>\n",
       "      <td>0</td>\n",
       "      <td>0</td>\n",
       "      <td>...</td>\n",
       "      <td>0</td>\n",
       "      <td>0</td>\n",
       "      <td>0</td>\n",
       "      <td>0</td>\n",
       "      <td>0</td>\n",
       "      <td>0</td>\n",
       "      <td>0</td>\n",
       "      <td>0</td>\n",
       "      <td>0</td>\n",
       "      <td>Fungal infection</td>\n",
       "    </tr>\n",
       "    <tr>\n",
       "      <th>1</th>\n",
       "      <td>0</td>\n",
       "      <td>1</td>\n",
       "      <td>1</td>\n",
       "      <td>0</td>\n",
       "      <td>0</td>\n",
       "      <td>0</td>\n",
       "      <td>0</td>\n",
       "      <td>0</td>\n",
       "      <td>0</td>\n",
       "      <td>0</td>\n",
       "      <td>...</td>\n",
       "      <td>0</td>\n",
       "      <td>0</td>\n",
       "      <td>0</td>\n",
       "      <td>0</td>\n",
       "      <td>0</td>\n",
       "      <td>0</td>\n",
       "      <td>0</td>\n",
       "      <td>0</td>\n",
       "      <td>0</td>\n",
       "      <td>Fungal infection</td>\n",
       "    </tr>\n",
       "    <tr>\n",
       "      <th>2</th>\n",
       "      <td>1</td>\n",
       "      <td>0</td>\n",
       "      <td>1</td>\n",
       "      <td>0</td>\n",
       "      <td>0</td>\n",
       "      <td>0</td>\n",
       "      <td>0</td>\n",
       "      <td>0</td>\n",
       "      <td>0</td>\n",
       "      <td>0</td>\n",
       "      <td>...</td>\n",
       "      <td>0</td>\n",
       "      <td>0</td>\n",
       "      <td>0</td>\n",
       "      <td>0</td>\n",
       "      <td>0</td>\n",
       "      <td>0</td>\n",
       "      <td>0</td>\n",
       "      <td>0</td>\n",
       "      <td>0</td>\n",
       "      <td>Fungal infection</td>\n",
       "    </tr>\n",
       "    <tr>\n",
       "      <th>3</th>\n",
       "      <td>1</td>\n",
       "      <td>1</td>\n",
       "      <td>0</td>\n",
       "      <td>0</td>\n",
       "      <td>0</td>\n",
       "      <td>0</td>\n",
       "      <td>0</td>\n",
       "      <td>0</td>\n",
       "      <td>0</td>\n",
       "      <td>0</td>\n",
       "      <td>...</td>\n",
       "      <td>0</td>\n",
       "      <td>0</td>\n",
       "      <td>0</td>\n",
       "      <td>0</td>\n",
       "      <td>0</td>\n",
       "      <td>0</td>\n",
       "      <td>0</td>\n",
       "      <td>0</td>\n",
       "      <td>0</td>\n",
       "      <td>Fungal infection</td>\n",
       "    </tr>\n",
       "    <tr>\n",
       "      <th>4</th>\n",
       "      <td>1</td>\n",
       "      <td>1</td>\n",
       "      <td>1</td>\n",
       "      <td>0</td>\n",
       "      <td>0</td>\n",
       "      <td>0</td>\n",
       "      <td>0</td>\n",
       "      <td>0</td>\n",
       "      <td>0</td>\n",
       "      <td>0</td>\n",
       "      <td>...</td>\n",
       "      <td>0</td>\n",
       "      <td>0</td>\n",
       "      <td>0</td>\n",
       "      <td>0</td>\n",
       "      <td>0</td>\n",
       "      <td>0</td>\n",
       "      <td>0</td>\n",
       "      <td>0</td>\n",
       "      <td>0</td>\n",
       "      <td>Fungal infection</td>\n",
       "    </tr>\n",
       "  </tbody>\n",
       "</table>\n",
       "<p>5 rows × 133 columns</p>\n",
       "</div>"
      ],
      "text/plain": [
       "   itching  skin_rash  nodal_skin_eruptions  continuous_sneezing  shivering  \\\n",
       "0        1          1                     1                    0          0   \n",
       "1        0          1                     1                    0          0   \n",
       "2        1          0                     1                    0          0   \n",
       "3        1          1                     0                    0          0   \n",
       "4        1          1                     1                    0          0   \n",
       "\n",
       "   chills  joint_pain  stomach_pain  acidity  ulcers_on_tongue  ...  \\\n",
       "0       0           0             0        0                 0  ...   \n",
       "1       0           0             0        0                 0  ...   \n",
       "2       0           0             0        0                 0  ...   \n",
       "3       0           0             0        0                 0  ...   \n",
       "4       0           0             0        0                 0  ...   \n",
       "\n",
       "   blackheads  scurring  skin_peeling  silver_like_dusting  \\\n",
       "0           0         0             0                    0   \n",
       "1           0         0             0                    0   \n",
       "2           0         0             0                    0   \n",
       "3           0         0             0                    0   \n",
       "4           0         0             0                    0   \n",
       "\n",
       "   small_dents_in_nails  inflammatory_nails  blister  red_sore_around_nose  \\\n",
       "0                     0                   0        0                     0   \n",
       "1                     0                   0        0                     0   \n",
       "2                     0                   0        0                     0   \n",
       "3                     0                   0        0                     0   \n",
       "4                     0                   0        0                     0   \n",
       "\n",
       "   yellow_crust_ooze         prognosis  \n",
       "0                  0  Fungal infection  \n",
       "1                  0  Fungal infection  \n",
       "2                  0  Fungal infection  \n",
       "3                  0  Fungal infection  \n",
       "4                  0  Fungal infection  \n",
       "\n",
       "[5 rows x 133 columns]"
      ]
     },
     "execution_count": 42,
     "metadata": {},
     "output_type": "execute_result"
    }
   ],
   "source": [
    "# Load Data\n",
    "# -----------------------------------\n",
    "df = pd.read_csv(\"Training.csv\")\n",
    "tr = pd.read_csv(\"Testing.csv\")\n",
    "df.head()"
   ]
  },
  {
   "cell_type": "code",
   "execution_count": 44,
   "id": "804f6361-cea0-43f8-af09-b484e2a4883d",
   "metadata": {},
   "outputs": [
    {
     "name": "stderr",
     "output_type": "stream",
     "text": [
      "C:\\Users\\nour-pc\\AppData\\Local\\Temp\\ipykernel_10812\\1438378740.py:3: FutureWarning: Downcasting behavior in `replace` is deprecated and will be removed in a future version. To retain the old behavior, explicitly call `result.infer_objects(copy=False)`. To opt-in to the future behavior, set `pd.set_option('future.no_silent_downcasting', True)`\n",
      "  df.replace({'prognosis': disease_mapping}, inplace=True)\n",
      "C:\\Users\\nour-pc\\AppData\\Local\\Temp\\ipykernel_10812\\1438378740.py:4: FutureWarning: Downcasting behavior in `replace` is deprecated and will be removed in a future version. To retain the old behavior, explicitly call `result.infer_objects(copy=False)`. To opt-in to the future behavior, set `pd.set_option('future.no_silent_downcasting', True)`\n",
      "  tr.replace({'prognosis': disease_mapping}, inplace=True)\n"
     ]
    },
    {
     "data": {
      "text/plain": [
       "0        0\n",
       "1        0\n",
       "2        0\n",
       "3        0\n",
       "4        0\n",
       "        ..\n",
       "4915    36\n",
       "4916    37\n",
       "4917    38\n",
       "4918    39\n",
       "4919    40\n",
       "Name: prognosis, Length: 4920, dtype: int64"
      ]
     },
     "execution_count": 44,
     "metadata": {},
     "output_type": "execute_result"
    }
   ],
   "source": [
    "# Map prognosis to numeric values\n",
    "disease_mapping = {d: i for i, d in enumerate(df['prognosis'].unique())}\n",
    "df.replace({'prognosis': disease_mapping}, inplace=True)\n",
    "tr.replace({'prognosis': disease_mapping}, inplace=True)\n",
    "\n",
    "X = df.iloc[:, :-1]\n",
    "y = df['prognosis']\n",
    "X_test = tr.iloc[:, :-1]\n",
    "y_test = tr['prognosis']\n",
    "y"
   ]
  },
  {
   "cell_type": "code",
   "execution_count": 45,
   "id": "6311157b-d991-4106-96c9-4e4246061bef",
   "metadata": {},
   "outputs": [],
   "source": [
    "# Symptom list\n",
    "symptoms = list(X.columns)"
   ]
  },
  {
   "cell_type": "code",
   "execution_count": 46,
   "id": "eb4cd2c1-6dc2-4fa4-8801-1a9fbcc78212",
   "metadata": {},
   "outputs": [],
   "source": [
    "# Reverse mapping for diseases\n",
    "reverse_mapping = {v: k for k, v in disease_mapping.items()}"
   ]
  },
  {
   "cell_type": "code",
   "execution_count": 47,
   "id": "5e342e95-dbe9-422d-ab63-0547f3b2937e",
   "metadata": {},
   "outputs": [],
   "source": [
    "def predict_disease(model):\n",
    "    psymptoms = [symptom1.get(), symptom2.get(), symptom3.get(), symptom4.get(), symptom5.get()]\n",
    "    input_symptoms = [1 if symptom in psymptoms else 0 for symptom in symptoms]\n",
    "    if not any(psymptoms):\n",
    "        messagebox.showwarning(\"Input Error\", \"Please select at least one symptom!\")\n",
    "        return None\n",
    "    prediction = model.predict([input_symptoms])[0]\n",
    "    disease_name = reverse_mapping[prediction]\n",
    "    return disease_name"
   ]
  },
  {
   "cell_type": "code",
   "execution_count": 48,
   "id": "f87be042-adcf-47e5-bbd1-0308a8feaf0e",
   "metadata": {},
   "outputs": [],
   "source": [
    "def decision_tree_predict():\n",
    "    clf = tree.DecisionTreeClassifier().fit(X, y)\n",
    "    result = predict_disease(clf)\n",
    "    if result:\n",
    "        result_box.insert(END, f\"Decision Tree Prediction: {result}\\n\")"
   ]
  },
  {
   "cell_type": "code",
   "execution_count": 49,
   "id": "a7d9b4e7-121a-4dda-9fd8-2de25cd59c8b",
   "metadata": {},
   "outputs": [],
   "source": [
    "def random_forest_predict():\n",
    "    clf = RandomForestClassifier().fit(X, y)\n",
    "    result = predict_disease(clf)\n",
    "    if result:\n",
    "        result_box.insert(END, f\"Random Forest Prediction: {result}\\n\")"
   ]
  },
  {
   "cell_type": "code",
   "execution_count": 50,
   "id": "dd7ebdf6-36df-4b77-bffe-191e54887a3b",
   "metadata": {},
   "outputs": [],
   "source": [
    "def naive_bayes_predict():\n",
    "    clf = GaussianNB().fit(X, y)\n",
    "    result = predict_disease(clf)\n",
    "    if result:\n",
    "        result_box.insert(END, f\"Naive Bayes Prediction: {result}\\n\")\n"
   ]
  },
  {
   "cell_type": "code",
   "execution_count": 51,
   "id": "f448d22b-206f-408d-ba29-7e505bf996b7",
   "metadata": {},
   "outputs": [],
   "source": [
    "def reset_fields():\n",
    "    symptom1.set(\"\")\n",
    "    symptom2.set(\"\")\n",
    "    symptom3.set(\"\")\n",
    "    symptom4.set(\"\")\n",
    "    symptom5.set(\"\")\n",
    "    result_box.delete(1.0, END)"
   ]
  },
  {
   "cell_type": "code",
   "execution_count": 52,
   "id": "8d7d3884-eec8-4cd7-bdbf-8be103c2004b",
   "metadata": {},
   "outputs": [],
   "source": [
    "root = Tk()\n",
    "root.title(\"Disease Predictor\")\n",
    "root.geometry(\"600x600\")\n",
    "root.configure(background=\"#f0f8ff\")\n",
    "\n",
    "# Title\n",
    "title_label = Label(root, text=\"Disease Predictor by \\nAlpha Team\", font=(\"Arial\", 20, \"bold\"), bg=\"#f0f8ff\", fg=\"#333\")\n",
    "title_label.pack(pady=10)\n"
   ]
  },
  {
   "cell_type": "code",
   "execution_count": 53,
   "id": "37133563-7839-4821-9da4-8be84e9fb263",
   "metadata": {},
   "outputs": [],
   "source": [
    "# Symptoms Input\n",
    "input_frame = Frame(root, bg=\"#f0f8ff\")\n",
    "input_frame.pack(pady=10)\n",
    "\n",
    "Label(input_frame, text=\"Select Symptoms:\", font=(\"Arial\", 12), bg=\"#f0f8ff\").grid(row=0, column=0, pady=5, sticky=W)\n"
   ]
  },
  {
   "cell_type": "code",
   "execution_count": 54,
   "id": "7c0e2bf9-4f3b-47ae-bfb8-6f84695a2450",
   "metadata": {},
   "outputs": [],
   "source": [
    "symptom1 = ttk.Combobox(input_frame, values=symptoms, width=30)\n",
    "symptom1.grid(row=1, column=0, pady=5)\n",
    "\n",
    "symptom2 = ttk.Combobox(input_frame, values=symptoms, width=30)\n",
    "symptom2.grid(row=2, column=0, pady=5)\n",
    "\n",
    "symptom3 = ttk.Combobox(input_frame, values=symptoms, width=30)\n",
    "symptom3.grid(row=3, column=0, pady=5)\n",
    "\n",
    "symptom4 = ttk.Combobox(input_frame, values=symptoms, width=30)\n",
    "symptom4.grid(row=4, column=0, pady=5)\n",
    "\n",
    "symptom5 = ttk.Combobox(input_frame, values=symptoms, width=30)\n",
    "symptom5.grid(row=5, column=0, pady=5)"
   ]
  },
  {
   "cell_type": "code",
   "execution_count": 55,
   "id": "9ff8496f-bf44-4132-89d3-75b0d968d7db",
   "metadata": {},
   "outputs": [],
   "source": [
    "# Buttons\n",
    "button_frame = Frame(root, bg=\"#f0f8ff\")\n",
    "button_frame.pack(pady=10)"
   ]
  },
  {
   "cell_type": "code",
   "execution_count": 56,
   "id": "8a00cb2a-5712-4444-8a8f-5f1297156b0a",
   "metadata": {},
   "outputs": [],
   "source": [
    "Button(button_frame, text=\"Decision Tree\", command=decision_tree_predict, bg=\"#4caf50\", fg=\"white\", width=15).grid(row=0, column=0, padx=10, pady=5)\n",
    "Button(button_frame, text=\"Random Forest\", command=random_forest_predict, bg=\"#2196f3\", fg=\"white\", width=15).grid(row=0, column=1, padx=10, pady=5)\n",
    "Button(button_frame, text=\"Naive Bayes\", command=naive_bayes_predict, bg=\"#f44336\", fg=\"white\", width=15).grid(row=0, column=2, padx=10, pady=5)\n",
    "Button(button_frame, text=\"Reset\", command=reset_fields, bg=\"#ff9800\", fg=\"white\", width=15).grid(row=1, column=1, padx=10, pady=5)"
   ]
  },
  {
   "cell_type": "code",
   "execution_count": null,
   "id": "262df092-a714-4050-92ad-5d8ea53a0964",
   "metadata": {},
   "outputs": [
    {
     "name": "stderr",
     "output_type": "stream",
     "text": [
      "C:\\Users\\nour-pc\\anaconda3\\Lib\\site-packages\\sklearn\\base.py:493: UserWarning: X does not have valid feature names, but DecisionTreeClassifier was fitted with feature names\n",
      "  warnings.warn(\n",
      "C:\\Users\\nour-pc\\anaconda3\\Lib\\site-packages\\sklearn\\base.py:493: UserWarning: X does not have valid feature names, but RandomForestClassifier was fitted with feature names\n",
      "  warnings.warn(\n",
      "C:\\Users\\nour-pc\\anaconda3\\Lib\\site-packages\\sklearn\\base.py:493: UserWarning: X does not have valid feature names, but GaussianNB was fitted with feature names\n",
      "  warnings.warn(\n"
     ]
    }
   ],
   "source": [
    "# Result Box\n",
    "result_box = Text(root, height=10, width=60, bg=\"#e8f5e9\", fg=\"#333\", font=(\"Arial\", 12))\n",
    "result_box.pack(pady=10)\n",
    "\n",
    "root.mainloop()"
   ]
  }
 ],
 "metadata": {
  "kernelspec": {
   "display_name": "Python 3 (ipykernel)",
   "language": "python",
   "name": "python3"
  },
  "language_info": {
   "codemirror_mode": {
    "name": "ipython",
    "version": 3
   },
   "file_extension": ".py",
   "mimetype": "text/x-python",
   "name": "python",
   "nbconvert_exporter": "python",
   "pygments_lexer": "ipython3",
   "version": "3.12.4"
  }
 },
 "nbformat": 4,
 "nbformat_minor": 5
}
